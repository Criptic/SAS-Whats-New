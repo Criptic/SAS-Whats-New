{
 "cells": [
  {
   "cell_type": "code",
   "execution_count": 1,
   "metadata": {},
   "outputs": [],
   "source": [
    "# This step is optional if you environment is not trusted by your Python host machine\n",
    "import os\n",
    "os.environ['CAS_CLIENT_SSL_CA_LIST'] = 'C:/Users/gerdaw/Documents/SANDBOX/trustedcerts.pem'"
   ]
  },
  {
   "cell_type": "code",
   "execution_count": 2,
   "metadata": {},
   "outputs": [
    {
     "name": "stderr",
     "output_type": "stream",
     "text": [
      "c:\\Users\\gerdaw\\.conda\\envs\\Airflow\\lib\\site-packages\\requests\\__init__.py:102: RequestsDependencyWarning: urllib3 (1.26.16) or chardet (5.1.0)/charset_normalizer (2.0.12) doesn't match a supported version!\n",
      "  warnings.warn(\"urllib3 ({}) or chardet ({})/charset_normalizer ({}) doesn't match a supported \"\n"
     ]
    }
   ],
   "source": [
    "import swat"
   ]
  },
  {
   "cell_type": "code",
   "execution_count": 3,
   "metadata": {},
   "outputs": [
    {
     "name": "stdout",
     "output_type": "stream",
     "text": [
      "Perfect you are all set to go ahead with this example\n"
     ]
    }
   ],
   "source": [
    "# Ensuring that you have the minimum version of SWAT to have access to the two new functions\n",
    "if swat.__version__ >= '1.13.2':\n",
    "    print('Perfect you are all set to go ahead with this example')\n",
    "else:\n",
    "    print('Please use pip install swat --upgrade to update the SWAT version')"
   ]
  },
  {
   "cell_type": "code",
   "execution_count": 4,
   "metadata": {},
   "outputs": [],
   "source": [
    "# Get information to authenticate with SAS Viya\n",
    "VIYAHOST = input('Enter your SAS Viya Host URL: ')\n",
    "AUTHCODE = input(f'Open the following [link]({VIYAHOST}/SASLogon/oauth/authorize?client_id=SWAT&response_type=code) and copy the Authcode: ')"
   ]
  },
  {
   "cell_type": "code",
   "execution_count": 5,
   "metadata": {},
   "outputs": [
    {
     "name": "stdout",
     "output_type": "stream",
     "text": [
      "NOTE: Grid node action status report: 5 nodes, 9 total actions executed.\n"
     ]
    },
    {
     "data": {
      "text/html": [
       "<div>\n",
       "<style scoped>\n",
       "    .dataframe tbody tr th:only-of-type {\n",
       "        vertical-align: middle;\n",
       "    }\n",
       "\n",
       "    .dataframe tbody tr th {\n",
       "        vertical-align: top;\n",
       "    }\n",
       "\n",
       "    .dataframe thead th {\n",
       "        text-align: right;\n",
       "    }\n",
       "</style>\n",
       "<table border=\"1\" class=\"dataframe\"><caption>Node Status</caption>\n",
       "  <thead>\n",
       "    <tr style=\"text-align: right;\">\n",
       "      <th title=\"\"></th>\n",
       "      <th title=\"Node Name\">name</th>\n",
       "      <th title=\"Role\">role</th>\n",
       "      <th title=\"Uptime (Sec)\">uptime</th>\n",
       "      <th title=\"Running\">running</th>\n",
       "      <th title=\"Stalled\">stalled</th>\n",
       "    </tr>\n",
       "  </thead>\n",
       "  <tbody>\n",
       "    <tr>\n",
       "      <td>0</td>\n",
       "      <td>worker-3.sas-cas-server-default.sasviya4.svc.c...</td>\n",
       "      <td>worker</td>\n",
       "      <td>3.207</td>\n",
       "      <td>0</td>\n",
       "      <td>0</td>\n",
       "    </tr>\n",
       "    <tr>\n",
       "      <td>1</td>\n",
       "      <td>worker-1.sas-cas-server-default.sasviya4.svc.c...</td>\n",
       "      <td>worker</td>\n",
       "      <td>3.206</td>\n",
       "      <td>0</td>\n",
       "      <td>0</td>\n",
       "    </tr>\n",
       "    <tr>\n",
       "      <td>2</td>\n",
       "      <td>worker-2.sas-cas-server-default.sasviya4.svc.c...</td>\n",
       "      <td>worker</td>\n",
       "      <td>3.206</td>\n",
       "      <td>0</td>\n",
       "      <td>0</td>\n",
       "    </tr>\n",
       "    <tr>\n",
       "      <td>3</td>\n",
       "      <td>worker-0.sas-cas-server-default.sasviya4.svc.c...</td>\n",
       "      <td>worker</td>\n",
       "      <td>3.206</td>\n",
       "      <td>0</td>\n",
       "      <td>0</td>\n",
       "    </tr>\n",
       "    <tr>\n",
       "      <td>4</td>\n",
       "      <td>controller.sas-cas-server-default.sasviya4.svc...</td>\n",
       "      <td>controller</td>\n",
       "      <td>3.241</td>\n",
       "      <td>0</td>\n",
       "      <td>0</td>\n",
       "    </tr>\n",
       "  </tbody>\n",
       "</table>\n",
       "</div>"
      ],
      "text/plain": [
       "Node Status\n",
       "\n",
       "                                                name        role  uptime  running  stalled\n",
       "0  worker-3.sas-cas-server-default.sasviya4.svc.c...      worker   3.207        0        0\n",
       "1  worker-1.sas-cas-server-default.sasviya4.svc.c...      worker   3.206        0        0\n",
       "2  worker-2.sas-cas-server-default.sasviya4.svc.c...      worker   3.206        0        0\n",
       "3  worker-0.sas-cas-server-default.sasviya4.svc.c...      worker   3.206        0        0\n",
       "4  controller.sas-cas-server-default.sasviya4.svc...  controller   3.241        0        0"
      ]
     },
     "execution_count": 5,
     "metadata": {},
     "output_type": "execute_result"
    }
   ],
   "source": [
    "# Connect to SAS Viya via the HTTPS method not binary\n",
    "conn = swat.CAS(f'{VIYAHOST}/cas-shared-default-http', 443, authcode=AUTHCODE)\n",
    "conn.serverstatus().get_tables('nodestatus')[0]"
   ]
  },
  {
   "cell_type": "code",
   "execution_count": 6,
   "metadata": {},
   "outputs": [
    {
     "name": "stdout",
     "output_type": "stream",
     "text": [
      "NOTE: Cloud Analytic Services made the uploaded file available as table HMEQ in caslib CASUSER(gerdaw).\n",
      "NOTE: The table HMEQ has been created in caslib CASUSER(gerdaw) from binary data uploaded to Cloud Analytic Services.\n"
     ]
    }
   ],
   "source": [
    "# Upload HMEQ to CAS\n",
    "conn.upload('https://raw.githubusercontent.com/sassoftware/model-management-resources/main/samples/Data/hmeq.csv')\n",
    "hmeq = conn.CASTable('hmeq', caslib='casuser')"
   ]
  },
  {
   "cell_type": "code",
   "execution_count": 7,
   "metadata": {},
   "outputs": [
    {
     "data": {
      "text/html": [
       "<div>\n",
       "<style scoped>\n",
       "    .dataframe tbody tr th:only-of-type {\n",
       "        vertical-align: middle;\n",
       "    }\n",
       "\n",
       "    .dataframe tbody tr th {\n",
       "        vertical-align: top;\n",
       "    }\n",
       "\n",
       "    .dataframe thead th {\n",
       "        text-align: right;\n",
       "    }\n",
       "</style>\n",
       "<table border=\"1\" class=\"dataframe\"><caption>Selected Rows from Table HMEQ</caption>\n",
       "  <thead>\n",
       "    <tr style=\"text-align: right;\">\n",
       "      <th title=\"\"></th>\n",
       "      <th title=\"BAD\">BAD</th>\n",
       "      <th title=\"LOAN\">LOAN</th>\n",
       "      <th title=\"MORTDUE\">MORTDUE</th>\n",
       "      <th title=\"VALUE\">VALUE</th>\n",
       "      <th title=\"REASON\">REASON</th>\n",
       "      <th title=\"JOB\">JOB</th>\n",
       "      <th title=\"YOJ\">YOJ</th>\n",
       "      <th title=\"DEROG\">DEROG</th>\n",
       "      <th title=\"DELINQ\">DELINQ</th>\n",
       "      <th title=\"CLAGE\">CLAGE</th>\n",
       "      <th title=\"NINQ\">NINQ</th>\n",
       "      <th title=\"CLNO\">CLNO</th>\n",
       "      <th title=\"DEBTINC\">DEBTINC</th>\n",
       "    </tr>\n",
       "  </thead>\n",
       "  <tbody>\n",
       "    <tr>\n",
       "      <td>0</td>\n",
       "      <td>1.0</td>\n",
       "      <td>1100.0</td>\n",
       "      <td>25860.0</td>\n",
       "      <td>39025.0</td>\n",
       "      <td>HomeImp</td>\n",
       "      <td>Other</td>\n",
       "      <td>10.5</td>\n",
       "      <td>0.0</td>\n",
       "      <td>0.0</td>\n",
       "      <td>94.366667</td>\n",
       "      <td>1.0</td>\n",
       "      <td>9.0</td>\n",
       "      <td>NaN</td>\n",
       "    </tr>\n",
       "    <tr>\n",
       "      <td>1</td>\n",
       "      <td>1.0</td>\n",
       "      <td>1300.0</td>\n",
       "      <td>70053.0</td>\n",
       "      <td>68400.0</td>\n",
       "      <td>HomeImp</td>\n",
       "      <td>Other</td>\n",
       "      <td>7.0</td>\n",
       "      <td>0.0</td>\n",
       "      <td>2.0</td>\n",
       "      <td>121.833333</td>\n",
       "      <td>0.0</td>\n",
       "      <td>14.0</td>\n",
       "      <td>NaN</td>\n",
       "    </tr>\n",
       "    <tr>\n",
       "      <td>2</td>\n",
       "      <td>1.0</td>\n",
       "      <td>1500.0</td>\n",
       "      <td>13500.0</td>\n",
       "      <td>16700.0</td>\n",
       "      <td>HomeImp</td>\n",
       "      <td>Other</td>\n",
       "      <td>4.0</td>\n",
       "      <td>0.0</td>\n",
       "      <td>0.0</td>\n",
       "      <td>149.466667</td>\n",
       "      <td>1.0</td>\n",
       "      <td>10.0</td>\n",
       "      <td>NaN</td>\n",
       "    </tr>\n",
       "    <tr>\n",
       "      <td>3</td>\n",
       "      <td>1.0</td>\n",
       "      <td>1500.0</td>\n",
       "      <td>NaN</td>\n",
       "      <td>NaN</td>\n",
       "      <td></td>\n",
       "      <td></td>\n",
       "      <td>NaN</td>\n",
       "      <td>NaN</td>\n",
       "      <td>NaN</td>\n",
       "      <td>NaN</td>\n",
       "      <td>NaN</td>\n",
       "      <td>NaN</td>\n",
       "      <td>NaN</td>\n",
       "    </tr>\n",
       "    <tr>\n",
       "      <td>4</td>\n",
       "      <td>0.0</td>\n",
       "      <td>1700.0</td>\n",
       "      <td>97800.0</td>\n",
       "      <td>112000.0</td>\n",
       "      <td>HomeImp</td>\n",
       "      <td>Office</td>\n",
       "      <td>3.0</td>\n",
       "      <td>0.0</td>\n",
       "      <td>0.0</td>\n",
       "      <td>93.333333</td>\n",
       "      <td>0.0</td>\n",
       "      <td>14.0</td>\n",
       "      <td>NaN</td>\n",
       "    </tr>\n",
       "  </tbody>\n",
       "</table>\n",
       "</div>"
      ],
      "text/plain": [
       "Selected Rows from Table HMEQ\n",
       "\n",
       "   BAD    LOAN  MORTDUE     VALUE   REASON     JOB   YOJ  DEROG  DELINQ       CLAGE  NINQ  CLNO  DEBTINC\n",
       "0  1.0  1100.0  25860.0   39025.0  HomeImp   Other  10.5    0.0     0.0   94.366667   1.0   9.0      NaN\n",
       "1  1.0  1300.0  70053.0   68400.0  HomeImp   Other   7.0    0.0     2.0  121.833333   0.0  14.0      NaN\n",
       "2  1.0  1500.0  13500.0   16700.0  HomeImp   Other   4.0    0.0     0.0  149.466667   1.0  10.0      NaN\n",
       "3  1.0  1500.0      NaN       NaN                    NaN    NaN     NaN         NaN   NaN   NaN      NaN\n",
       "4  0.0  1700.0  97800.0  112000.0  HomeImp  Office   3.0    0.0     0.0   93.333333   0.0  14.0      NaN"
      ]
     },
     "execution_count": 7,
     "metadata": {},
     "output_type": "execute_result"
    }
   ],
   "source": [
    "# Display the first five rows\n",
    "hmeq.head()"
   ]
  },
  {
   "cell_type": "markdown",
   "metadata": {},
   "source": [
    "## New CASTable method rename\n",
    "\n",
    "The new method _rename_ for CASTable objects provides the ability to rename columns."
   ]
  },
  {
   "cell_type": "code",
   "execution_count": 14,
   "metadata": {},
   "outputs": [
    {
     "name": "stdout",
     "output_type": "stream",
     "text": [
      "[ColumnInfo]\n",
      "\n",
      "         Column Label  ID     Type  RawLength  FormattedLength Format  NFL  NFD\n",
      " 0   Defaulting         1   double          8               12           0    0\n",
      " 1         LOAN         2   double          8               12           0    0\n",
      " 2      MORTDUE         3   double          8               12           0    0\n",
      " 3        VALUE         4   double          8               12           0    0\n",
      " 4       REASON         5  varchar          7                7           0    0\n",
      " 5          JOB         6  varchar          7                7           0    0\n",
      " 6          YOJ         7   double          8               12           0    0\n",
      " 7        DEROG         8   double          8               12           0    0\n",
      " 8       DELINQ         9   double          8               12           0    0\n",
      " 9        CLAGE        10   double          8               12           0    0\n",
      " 10        NINQ        11   double          8               12           0    0\n",
      " 11        CLNO        12   double          8               12           0    0\n",
      " 12     DEBTINC        13   double          8               12           0    0\n",
      "\n",
      "+ Elapsed: 0.0123s, user: 0.0114s, sys: 0.00582s, mem: 2.52mb\n"
     ]
    }
   ],
   "source": [
    "hmeq.rename({'BAD': 'Defaulting'})\n",
    "print(hmeq.columninfo())"
   ]
  },
  {
   "cell_type": "markdown",
   "metadata": {},
   "source": [
    "## Extended biomedical image file type support\n",
    "\n",
    "When loading images to CAS via the _image.loadImages_ method the type of file extensions supported as been enhanced"
   ]
  },
  {
   "cell_type": "code",
   "execution_count": 15,
   "metadata": {},
   "outputs": [
    {
     "name": "stdout",
     "output_type": "stream",
     "text": [
      "Previous file types:\n",
      "['bmp', 'dib', 'jpg', 'jpeg', 'jpe', 'jp2', 'png', 'pbm', 'pmg', 'ppm', 'tif', 'tiff', 'webp']\n",
      "New list:\n",
      "['bmp', 'dib', 'jpg', 'jpeg', 'jpe', 'jp2', 'png', 'pbm', 'pmg', 'ppm', 'tif', 'tiff', 'webp', 'hdr', 'pic', 'dcm', 'dicom', 'nrrd', 'nhdr', 'raw', 'nii', 'img', 'hdr', 'mha', 'mhd', 'saswimg', 'sastimg']\n"
     ]
    }
   ],
   "source": [
    "print('Previous file types:')\n",
    "print(['bmp', 'dib', 'jpg', 'jpeg', 'jpe', 'jp2', 'png', 'pbm', 'pmg', 'ppm', 'tif', 'tiff', 'webp'])\n",
    "print('New list:')\n",
    "print(['bmp', 'dib', 'jpg', 'jpeg', 'jpe', 'jp2', 'png', 'pbm', 'pmg', 'ppm', 'tif', 'tiff', 'webp', 'hdr', 'pic', 'dcm', 'dicom', 'nrrd', 'nhdr', 'raw', 'nii', 'img', 'hdr', 'mha', 'mhd', 'saswimg', 'sastimg'])"
   ]
  }
 ],
 "metadata": {
  "kernelspec": {
   "display_name": "Airflow",
   "language": "python",
   "name": "python3"
  },
  "language_info": {
   "codemirror_mode": {
    "name": "ipython",
    "version": 3
   },
   "file_extension": ".py",
   "mimetype": "text/x-python",
   "name": "python",
   "nbconvert_exporter": "python",
   "pygments_lexer": "ipython3",
   "version": "3.8.13"
  },
  "orig_nbformat": 4
 },
 "nbformat": 4,
 "nbformat_minor": 2
}
